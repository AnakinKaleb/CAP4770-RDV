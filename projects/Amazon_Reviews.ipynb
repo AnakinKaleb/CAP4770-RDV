{
  "nbformat": 4,
  "nbformat_minor": 0,
  "metadata": {
    "colab": {
      "provenance": [],
      "authorship_tag": "ABX9TyMd4ign7OovSGn7awFGtyoK",
      "include_colab_link": true
    },
    "kernelspec": {
      "name": "python3",
      "display_name": "Python 3"
    },
    "language_info": {
      "name": "python"
    }
  },
  "cells": [
    {
      "cell_type": "markdown",
      "metadata": {
        "id": "view-in-github",
        "colab_type": "text"
      },
      "source": [
        "<a href=\"https://colab.research.google.com/github/AnakinKaleb/CAP4770-RDV/blob/main/projects/Amazon_Reviews.ipynb\" target=\"_parent\"><img src=\"https://colab.research.google.com/assets/colab-badge.svg\" alt=\"Open In Colab\"/></a>"
      ]
    },
    {
      "cell_type": "markdown",
      "source": [
        "I will begin by getting the data."
      ],
      "metadata": {
        "id": "x8mSZnNHDvYD"
      }
    },
    {
      "cell_type": "code",
      "execution_count": 104,
      "metadata": {
        "id": "4AH5fRamyWNr",
        "colab": {
          "base_uri": "https://localhost:8080/"
        },
        "outputId": "899a3eee-7d78-4f3f-9278-ec45b8c0efea"
      },
      "outputs": [
        {
          "output_type": "stream",
          "name": "stdout",
          "text": [
            "--2023-04-29 03:29:23--  http://34.82.108.37/amazonReviewsTest.csv\n",
            "Connecting to 34.82.108.37:80... connected.\n",
            "HTTP request sent, awaiting response... 200 OK\n",
            "Length: 4240573 (4.0M) [application/octet-stream]\n",
            "Saving to: ‘amazonReviewsTest.csv’\n",
            "\n",
            "amazonReviewsTest.c 100%[===================>]   4.04M  7.70MB/s    in 0.5s    \n",
            "\n",
            "2023-04-29 03:29:23 (7.70 MB/s) - ‘amazonReviewsTest.csv’ saved [4240573/4240573]\n",
            "\n"
          ]
        }
      ],
      "source": [
        "!wget http://34.82.108.37/amazonReviewsTest.csv"
      ]
    },
    {
      "cell_type": "code",
      "source": [
        "#Getting the reviews\n",
        "!wget http://34.82.108.37/amazonReviewsTrain.csv.zip"
      ],
      "metadata": {
        "id": "iq9rmdlbAyxO",
        "colab": {
          "base_uri": "https://localhost:8080/"
        },
        "outputId": "0e08cce7-292d-46c5-b2f5-271f9a834ccc"
      },
      "execution_count": 105,
      "outputs": [
        {
          "output_type": "stream",
          "name": "stdout",
          "text": [
            "--2023-04-29 03:30:06--  http://34.82.108.37/amazonReviewsTrain.csv.zip\n",
            "Connecting to 34.82.108.37:80... connected.\n",
            "HTTP request sent, awaiting response... 200 OK\n",
            "Length: 39456705 (38M) [application/zip]\n",
            "Saving to: ‘amazonReviewsTrain.csv.zip’\n",
            "\n",
            "amazonReviewsTrain. 100%[===================>]  37.63M  29.2MB/s    in 1.3s    \n",
            "\n",
            "2023-04-29 03:30:08 (29.2 MB/s) - ‘amazonReviewsTrain.csv.zip’ saved [39456705/39456705]\n",
            "\n"
          ]
        }
      ]
    },
    {
      "cell_type": "code",
      "source": [
        "Next, I will unzip the contents."
      ],
      "metadata": {
        "id": "F67u7MN8F_31"
      },
      "execution_count": null,
      "outputs": []
    },
    {
      "cell_type": "code",
      "source": [
        "#Unzipping the contents of the CSV\n",
        "!unzip /content/amazonReviewsTrain.csv.zip"
      ],
      "metadata": {
        "colab": {
          "base_uri": "https://localhost:8080/"
        },
        "id": "Eb_O2GzOAyux",
        "outputId": "2150df90-af1b-4709-f2d0-bed6bee571db"
      },
      "execution_count": 106,
      "outputs": [
        {
          "output_type": "stream",
          "name": "stdout",
          "text": [
            "Archive:  /content/amazonReviewsTrain.csv.zip\n",
            "  inflating: amazonReviewsTrain.csv  \n"
          ]
        }
      ]
    },
    {
      "cell_type": "code",
      "source": [
        "import keras\n",
        "keras.__version__"
      ],
      "metadata": {
        "colab": {
          "base_uri": "https://localhost:8080/",
          "height": 35
        },
        "id": "6f44QkIxAys1",
        "outputId": "b2e09ffe-a4c2-41bb-ed8d-87c745daa8e7"
      },
      "execution_count": 107,
      "outputs": [
        {
          "output_type": "execute_result",
          "data": {
            "text/plain": [
              "'2.12.0'"
            ],
            "application/vnd.google.colaboratory.intrinsic+json": {
              "type": "string"
            }
          },
          "metadata": {},
          "execution_count": 107
        }
      ]
    },
    {
      "cell_type": "markdown",
      "source": [
        "The next step is to assign the data to variables. Using this we shall predict the reating for the test data."
      ],
      "metadata": {
        "id": "3j9wZt2UGCQ3"
      }
    },
    {
      "cell_type": "code",
      "source": [
        "#Reading the csv's and training the model\n",
        "import pandas as pd\n",
        "train = pd.read_csv('amazonReviewsTrain.csv')\n",
        "train = train[['reviewText', 'rating']]\n",
        "test = pd.read_csv('amazonReviewsTest.csv')\n",
        "test = test[['reviewText']]\n",
        "train"
      ],
      "metadata": {
        "colab": {
          "base_uri": "https://localhost:8080/",
          "height": 478
        },
        "id": "qQQcK69PAyqY",
        "outputId": "b2a91558-1fbc-4e08-f5e9-022b275bb61a"
      },
      "execution_count": 108,
      "outputs": [
        {
          "output_type": "stream",
          "name": "stderr",
          "text": [
            "<ipython-input-108-add5d44d87e1>:2: DtypeWarning: Columns (8) have mixed types. Specify dtype option on import or set low_memory=False.\n",
            "  train = pd.read_csv('amazonReviewsTrain.csv')\n"
          ]
        },
        {
          "output_type": "execute_result",
          "data": {
            "text/plain": [
              "                                               reviewText    rating\n",
              "0              Have 30 of these in operation great lights  positive\n",
              "1       Good replacement.  I prefer my Rovner L5, but ...  positive\n",
              "2       My son & band teacher loves it. Really nice. B...  positive\n",
              "3       This was a gift for a friend who is a fan of t...  positive\n",
              "4       Wish it would attach to my violin a little eas...  positive\n",
              "...                                                   ...       ...\n",
              "221387  Still hard to beat D'Addario. Hope they keep i...  positive\n",
              "221388  Ortofon hits the nail right on the head with t...  positive\n",
              "221389  This is my absolute favorite guitar strap amon...  positive\n",
              "221390                                               nice  positive\n",
              "221391  This polishing cloth is well-made and a great ...  positive\n",
              "\n",
              "[221392 rows x 2 columns]"
            ],
            "text/html": [
              "\n",
              "  <div id=\"df-3ff9ae9a-ad57-459b-aec5-3959bb1ac8ad\">\n",
              "    <div class=\"colab-df-container\">\n",
              "      <div>\n",
              "<style scoped>\n",
              "    .dataframe tbody tr th:only-of-type {\n",
              "        vertical-align: middle;\n",
              "    }\n",
              "\n",
              "    .dataframe tbody tr th {\n",
              "        vertical-align: top;\n",
              "    }\n",
              "\n",
              "    .dataframe thead th {\n",
              "        text-align: right;\n",
              "    }\n",
              "</style>\n",
              "<table border=\"1\" class=\"dataframe\">\n",
              "  <thead>\n",
              "    <tr style=\"text-align: right;\">\n",
              "      <th></th>\n",
              "      <th>reviewText</th>\n",
              "      <th>rating</th>\n",
              "    </tr>\n",
              "  </thead>\n",
              "  <tbody>\n",
              "    <tr>\n",
              "      <th>0</th>\n",
              "      <td>Have 30 of these in operation great lights</td>\n",
              "      <td>positive</td>\n",
              "    </tr>\n",
              "    <tr>\n",
              "      <th>1</th>\n",
              "      <td>Good replacement.  I prefer my Rovner L5, but ...</td>\n",
              "      <td>positive</td>\n",
              "    </tr>\n",
              "    <tr>\n",
              "      <th>2</th>\n",
              "      <td>My son &amp; band teacher loves it. Really nice. B...</td>\n",
              "      <td>positive</td>\n",
              "    </tr>\n",
              "    <tr>\n",
              "      <th>3</th>\n",
              "      <td>This was a gift for a friend who is a fan of t...</td>\n",
              "      <td>positive</td>\n",
              "    </tr>\n",
              "    <tr>\n",
              "      <th>4</th>\n",
              "      <td>Wish it would attach to my violin a little eas...</td>\n",
              "      <td>positive</td>\n",
              "    </tr>\n",
              "    <tr>\n",
              "      <th>...</th>\n",
              "      <td>...</td>\n",
              "      <td>...</td>\n",
              "    </tr>\n",
              "    <tr>\n",
              "      <th>221387</th>\n",
              "      <td>Still hard to beat D'Addario. Hope they keep i...</td>\n",
              "      <td>positive</td>\n",
              "    </tr>\n",
              "    <tr>\n",
              "      <th>221388</th>\n",
              "      <td>Ortofon hits the nail right on the head with t...</td>\n",
              "      <td>positive</td>\n",
              "    </tr>\n",
              "    <tr>\n",
              "      <th>221389</th>\n",
              "      <td>This is my absolute favorite guitar strap amon...</td>\n",
              "      <td>positive</td>\n",
              "    </tr>\n",
              "    <tr>\n",
              "      <th>221390</th>\n",
              "      <td>nice</td>\n",
              "      <td>positive</td>\n",
              "    </tr>\n",
              "    <tr>\n",
              "      <th>221391</th>\n",
              "      <td>This polishing cloth is well-made and a great ...</td>\n",
              "      <td>positive</td>\n",
              "    </tr>\n",
              "  </tbody>\n",
              "</table>\n",
              "<p>221392 rows × 2 columns</p>\n",
              "</div>\n",
              "      <button class=\"colab-df-convert\" onclick=\"convertToInteractive('df-3ff9ae9a-ad57-459b-aec5-3959bb1ac8ad')\"\n",
              "              title=\"Convert this dataframe to an interactive table.\"\n",
              "              style=\"display:none;\">\n",
              "        \n",
              "  <svg xmlns=\"http://www.w3.org/2000/svg\" height=\"24px\"viewBox=\"0 0 24 24\"\n",
              "       width=\"24px\">\n",
              "    <path d=\"M0 0h24v24H0V0z\" fill=\"none\"/>\n",
              "    <path d=\"M18.56 5.44l.94 2.06.94-2.06 2.06-.94-2.06-.94-.94-2.06-.94 2.06-2.06.94zm-11 1L8.5 8.5l.94-2.06 2.06-.94-2.06-.94L8.5 2.5l-.94 2.06-2.06.94zm10 10l.94 2.06.94-2.06 2.06-.94-2.06-.94-.94-2.06-.94 2.06-2.06.94z\"/><path d=\"M17.41 7.96l-1.37-1.37c-.4-.4-.92-.59-1.43-.59-.52 0-1.04.2-1.43.59L10.3 9.45l-7.72 7.72c-.78.78-.78 2.05 0 2.83L4 21.41c.39.39.9.59 1.41.59.51 0 1.02-.2 1.41-.59l7.78-7.78 2.81-2.81c.8-.78.8-2.07 0-2.86zM5.41 20L4 18.59l7.72-7.72 1.47 1.35L5.41 20z\"/>\n",
              "  </svg>\n",
              "      </button>\n",
              "      \n",
              "  <style>\n",
              "    .colab-df-container {\n",
              "      display:flex;\n",
              "      flex-wrap:wrap;\n",
              "      gap: 12px;\n",
              "    }\n",
              "\n",
              "    .colab-df-convert {\n",
              "      background-color: #E8F0FE;\n",
              "      border: none;\n",
              "      border-radius: 50%;\n",
              "      cursor: pointer;\n",
              "      display: none;\n",
              "      fill: #1967D2;\n",
              "      height: 32px;\n",
              "      padding: 0 0 0 0;\n",
              "      width: 32px;\n",
              "    }\n",
              "\n",
              "    .colab-df-convert:hover {\n",
              "      background-color: #E2EBFA;\n",
              "      box-shadow: 0px 1px 2px rgba(60, 64, 67, 0.3), 0px 1px 3px 1px rgba(60, 64, 67, 0.15);\n",
              "      fill: #174EA6;\n",
              "    }\n",
              "\n",
              "    [theme=dark] .colab-df-convert {\n",
              "      background-color: #3B4455;\n",
              "      fill: #D2E3FC;\n",
              "    }\n",
              "\n",
              "    [theme=dark] .colab-df-convert:hover {\n",
              "      background-color: #434B5C;\n",
              "      box-shadow: 0px 1px 3px 1px rgba(0, 0, 0, 0.15);\n",
              "      filter: drop-shadow(0px 1px 2px rgba(0, 0, 0, 0.3));\n",
              "      fill: #FFFFFF;\n",
              "    }\n",
              "  </style>\n",
              "\n",
              "      <script>\n",
              "        const buttonEl =\n",
              "          document.querySelector('#df-3ff9ae9a-ad57-459b-aec5-3959bb1ac8ad button.colab-df-convert');\n",
              "        buttonEl.style.display =\n",
              "          google.colab.kernel.accessAllowed ? 'block' : 'none';\n",
              "\n",
              "        async function convertToInteractive(key) {\n",
              "          const element = document.querySelector('#df-3ff9ae9a-ad57-459b-aec5-3959bb1ac8ad');\n",
              "          const dataTable =\n",
              "            await google.colab.kernel.invokeFunction('convertToInteractive',\n",
              "                                                     [key], {});\n",
              "          if (!dataTable) return;\n",
              "\n",
              "          const docLinkHtml = 'Like what you see? Visit the ' +\n",
              "            '<a target=\"_blank\" href=https://colab.research.google.com/notebooks/data_table.ipynb>data table notebook</a>'\n",
              "            + ' to learn more about interactive tables.';\n",
              "          element.innerHTML = '';\n",
              "          dataTable['output_type'] = 'display_data';\n",
              "          await google.colab.output.renderOutput(dataTable, element);\n",
              "          const docLink = document.createElement('div');\n",
              "          docLink.innerHTML = docLinkHtml;\n",
              "          element.appendChild(docLink);\n",
              "        }\n",
              "      </script>\n",
              "    </div>\n",
              "  </div>\n",
              "  "
            ]
          },
          "metadata": {},
          "execution_count": 108
        }
      ]
    },
    {
      "cell_type": "markdown",
      "source": [
        "The next step is to change the alphabetical data into numerical data, to make the predictions and coding easier. "
      ],
      "metadata": {
        "id": "TuysqIpBGKVn"
      }
    },
    {
      "cell_type": "code",
      "source": [
        "#Using if statements to turn the alphabetical data into numeric data and training the model\n",
        "train.reviewText = train.reviewText.astype(str)\n",
        "train_text = train.reviewText\n",
        "test.reviewText = train.reviewText.astype(str)\n",
        "test_text = test.reviewText\n",
        "train_label = train.rating\n",
        "def condition(x):\n",
        "    if x=='positive':\n",
        "        return 2\n",
        "    elif x=='neutral':\n",
        "        return 1\n",
        "    else:\n",
        "        return 0\n",
        "train_label =  train['rating'].apply(condition)\n",
        "train_label"
      ],
      "metadata": {
        "id": "B1xxCBN7AyoF",
        "colab": {
          "base_uri": "https://localhost:8080/"
        },
        "outputId": "8e8343f8-a314-43b3-be37-e116a2cf80ab"
      },
      "execution_count": 109,
      "outputs": [
        {
          "output_type": "execute_result",
          "data": {
            "text/plain": [
              "0         2\n",
              "1         2\n",
              "2         2\n",
              "3         2\n",
              "4         2\n",
              "         ..\n",
              "221387    2\n",
              "221388    2\n",
              "221389    2\n",
              "221390    2\n",
              "221391    2\n",
              "Name: rating, Length: 221392, dtype: int64"
            ]
          },
          "metadata": {},
          "execution_count": 109
        }
      ]
    },
    {
      "cell_type": "markdown",
      "source": [
        "Using the 20,000 most common words, and cutting the reviews off after the first 100 words. I think it is safe to assume that the gist of the review is usually summed up in the first 100 words. This is to save data, time, and to potentially get more accurate results."
      ],
      "metadata": {
        "id": "fznzbiDtGzcQ"
      }
    },
    {
      "cell_type": "code",
      "source": [
        "from keras.preprocessing.text import Tokenizer\n",
        "tokenizer = Tokenizer(num_words = 20000)\n",
        "#build the word index\n",
        "tokenizer.fit_on_texts(train_text)\n",
        "# now convert the words to integers\n",
        "train_sequences = tokenizer.texts_to_sequences(train_text)\n",
        "#build the word index\n",
        "tokenizer.fit_on_texts(test_text)\n",
        "# now convert the words to integers\n",
        "test_sequences = tokenizer.texts_to_sequences(test_text)\n",
        "\n",
        "train_sequences[0]"
      ],
      "metadata": {
        "colab": {
          "base_uri": "https://localhost:8080/"
        },
        "id": "TUKhLXo5Ayl_",
        "outputId": "2b5db2b4-d7a8-4d0b-a3d2-844d71d79179"
      },
      "execution_count": 110,
      "outputs": [
        {
          "output_type": "execute_result",
          "data": {
            "text/plain": [
              "[18, 534, 9, 25, 13, 2199, 22, 570]"
            ]
          },
          "metadata": {},
          "execution_count": 110
        }
      ]
    },
    {
      "cell_type": "code",
      "source": [
        "from keras.utils import pad_sequences\n",
        "# Cut texts after this number of words \n",
        "# (among top max_features most common words)\n",
        "maxlen = 100\n",
        "\n",
        "# This turns our lists of integers\n",
        "# into a 2D integer tensor of shape `(samples, maxlen)`\n",
        "trainingNum = pad_sequences(train_sequences, maxlen=maxlen)\n",
        "testingNum = pad_sequences(test_sequences, maxlen=maxlen)\n",
        "\n",
        "trainingNum[0]"
      ],
      "metadata": {
        "colab": {
          "base_uri": "https://localhost:8080/"
        },
        "id": "mx-MzxyeAyjt",
        "outputId": "bbffb84d-32bb-49cf-8eae-faee9a449c06"
      },
      "execution_count": 111,
      "outputs": [
        {
          "output_type": "execute_result",
          "data": {
            "text/plain": [
              "array([   0,    0,    0,    0,    0,    0,    0,    0,    0,    0,    0,\n",
              "          0,    0,    0,    0,    0,    0,    0,    0,    0,    0,    0,\n",
              "          0,    0,    0,    0,    0,    0,    0,    0,    0,    0,    0,\n",
              "          0,    0,    0,    0,    0,    0,    0,    0,    0,    0,    0,\n",
              "          0,    0,    0,    0,    0,    0,    0,    0,    0,    0,    0,\n",
              "          0,    0,    0,    0,    0,    0,    0,    0,    0,    0,    0,\n",
              "          0,    0,    0,    0,    0,    0,    0,    0,    0,    0,    0,\n",
              "          0,    0,    0,    0,    0,    0,    0,    0,    0,    0,    0,\n",
              "          0,    0,    0,    0,   18,  534,    9,   25,   13, 2199,   22,\n",
              "        570], dtype=int32)"
            ]
          },
          "metadata": {},
          "execution_count": 111
        }
      ]
    },
    {
      "cell_type": "markdown",
      "source": [
        "The next step is to split the training data into training and testing data. "
      ],
      "metadata": {
        "id": "1yqjTI7jHE0s"
      }
    },
    {
      "cell_type": "code",
      "source": [
        "from sklearn.model_selection import train_test_split\n",
        "train_features, test_features, train_labels, test_labels = train_test_split(trainingNum, train_label, test_size = 0.2, random_state=42)\n",
        "test_labels"
      ],
      "metadata": {
        "colab": {
          "base_uri": "https://localhost:8080/"
        },
        "id": "GW2OG8GgAyhl",
        "outputId": "d2b7a28f-0e7e-428e-b6fc-1e0209415ae5"
      },
      "execution_count": 112,
      "outputs": [
        {
          "output_type": "execute_result",
          "data": {
            "text/plain": [
              "5028      0\n",
              "133605    2\n",
              "182161    2\n",
              "137498    2\n",
              "122233    1\n",
              "         ..\n",
              "45935     2\n",
              "5691      2\n",
              "83947     2\n",
              "214291    1\n",
              "8033      1\n",
              "Name: rating, Length: 44279, dtype: int64"
            ]
          },
          "metadata": {},
          "execution_count": 112
        }
      ]
    },
    {
      "cell_type": "code",
      "source": [
        "from keras.utils import to_categorical\n",
        "train_labels = to_categorical(train_labels)\n",
        "test_labels = to_categorical(test_labels)"
      ],
      "metadata": {
        "id": "-qVYhZ27AyfT"
      },
      "execution_count": 113,
      "outputs": []
    },
    {
      "cell_type": "markdown",
      "source": [
        "The next step is to model the data with an embedding layer, after making the data categorical."
      ],
      "metadata": {
        "id": "IImrJiuDHMOo"
      }
    },
    {
      "cell_type": "code",
      "source": [
        "from keras.models import Sequential\n",
        "from keras import optimizers\n",
        "from keras import layers\n",
        "from keras.layers import Flatten, Dense, Embedding\n",
        "\n",
        "vocabulary_size = 20000\n",
        "embedding_size = 100\n",
        "model = Sequential()\n",
        "# We specify the maximum input length to our Embedding layer\n",
        "# so we can later flatten the embedded inputs\n",
        "model.add(Embedding(vocabulary_size, embedding_size, input_length=maxlen))\n",
        "model.add(Flatten())\n",
        "model.add(Dense(3, activation='sigmoid'))\n",
        "\n",
        "model.compile(optimizer='rmsprop',\n",
        "                loss='categorical_crossentropy',\n",
        "                metrics=['accuracy'])\n",
        "model.summary()"
      ],
      "metadata": {
        "id": "IdKPcRC8AydA",
        "colab": {
          "base_uri": "https://localhost:8080/"
        },
        "outputId": "791e43c2-ba33-4f43-f6bd-f625487ccf30"
      },
      "execution_count": 114,
      "outputs": [
        {
          "output_type": "stream",
          "name": "stdout",
          "text": [
            "Model: \"sequential\"\n",
            "_________________________________________________________________\n",
            " Layer (type)                Output Shape              Param #   \n",
            "=================================================================\n",
            " embedding (Embedding)       (None, 100, 100)          2000000   \n",
            "                                                                 \n",
            " flatten (Flatten)           (None, 10000)             0         \n",
            "                                                                 \n",
            " dense (Dense)               (None, 3)                 30003     \n",
            "                                                                 \n",
            "=================================================================\n",
            "Total params: 2,030,003\n",
            "Trainable params: 2,030,003\n",
            "Non-trainable params: 0\n",
            "_________________________________________________________________\n"
          ]
        }
      ]
    },
    {
      "cell_type": "markdown",
      "source": [
        "Next, the model will be fit. Using 20 epocs, I should get good accuracy while keeping the time it takes the system to run relatively low."
      ],
      "metadata": {
        "id": "3EECoFDzHUas"
      }
    },
    {
      "cell_type": "code",
      "source": [
        "history = model.fit(\n",
        "      train_features, train_labels,\n",
        "      steps_per_epoch=100,\n",
        "      epochs=20,\n",
        "      validation_split=0.2,\n",
        "      validation_steps=50)"
      ],
      "metadata": {
        "colab": {
          "base_uri": "https://localhost:8080/"
        },
        "id": "55_SjIUQFEF3",
        "outputId": "ec2f3468-2774-40c9-885b-bb23e27fd57b"
      },
      "execution_count": 124,
      "outputs": [
        {
          "output_type": "stream",
          "name": "stdout",
          "text": [
            "Epoch 1/20\n",
            "100/100 [==============================] - 19s 191ms/step - loss: 0.3062 - accuracy: 0.8910 - val_loss: 0.3256 - val_accuracy: 0.8824\n",
            "Epoch 2/20\n",
            "100/100 [==============================] - 15s 147ms/step - loss: 0.2958 - accuracy: 0.8935 - val_loss: 0.3265 - val_accuracy: 0.8839\n",
            "Epoch 3/20\n",
            "100/100 [==============================] - 23s 235ms/step - loss: 0.2858 - accuracy: 0.8973 - val_loss: 0.3271 - val_accuracy: 0.8844\n",
            "Epoch 4/20\n",
            "100/100 [==============================] - 16s 164ms/step - loss: 0.2766 - accuracy: 0.9010 - val_loss: 0.3154 - val_accuracy: 0.8870\n",
            "Epoch 5/20\n",
            "100/100 [==============================] - 17s 169ms/step - loss: 0.2669 - accuracy: 0.9039 - val_loss: 0.3197 - val_accuracy: 0.8862\n",
            "Epoch 6/20\n",
            "100/100 [==============================] - 19s 186ms/step - loss: 0.2574 - accuracy: 0.9075 - val_loss: 0.3146 - val_accuracy: 0.8891\n",
            "Epoch 7/20\n",
            "100/100 [==============================] - 20s 197ms/step - loss: 0.2482 - accuracy: 0.9114 - val_loss: 0.3181 - val_accuracy: 0.8889\n",
            "Epoch 8/20\n",
            "100/100 [==============================] - 18s 184ms/step - loss: 0.2389 - accuracy: 0.9152 - val_loss: 0.3218 - val_accuracy: 0.8871\n",
            "Epoch 9/20\n",
            "100/100 [==============================] - 20s 198ms/step - loss: 0.2297 - accuracy: 0.9189 - val_loss: 0.3178 - val_accuracy: 0.8904\n",
            "Epoch 10/20\n",
            "100/100 [==============================] - 16s 159ms/step - loss: 0.2201 - accuracy: 0.9228 - val_loss: 0.3196 - val_accuracy: 0.8890\n",
            "Epoch 11/20\n",
            "100/100 [==============================] - 18s 179ms/step - loss: 0.2105 - accuracy: 0.9268 - val_loss: 0.3316 - val_accuracy: 0.8887\n",
            "Epoch 12/20\n",
            "100/100 [==============================] - 20s 198ms/step - loss: 0.2011 - accuracy: 0.9308 - val_loss: 0.3251 - val_accuracy: 0.8885\n",
            "Epoch 13/20\n",
            "100/100 [==============================] - 21s 212ms/step - loss: 0.1918 - accuracy: 0.9354 - val_loss: 0.3276 - val_accuracy: 0.8881\n",
            "Epoch 14/20\n",
            "100/100 [==============================] - 15s 152ms/step - loss: 0.1825 - accuracy: 0.9390 - val_loss: 0.3412 - val_accuracy: 0.8880\n",
            "Epoch 15/20\n",
            "100/100 [==============================] - 17s 166ms/step - loss: 0.1737 - accuracy: 0.9431 - val_loss: 0.3328 - val_accuracy: 0.8884\n",
            "Epoch 16/20\n",
            "100/100 [==============================] - 15s 152ms/step - loss: 0.1650 - accuracy: 0.9468 - val_loss: 0.3361 - val_accuracy: 0.8887\n",
            "Epoch 17/20\n",
            "100/100 [==============================] - 16s 157ms/step - loss: 0.1572 - accuracy: 0.9506 - val_loss: 0.3459 - val_accuracy: 0.8889\n",
            "Epoch 18/20\n",
            "100/100 [==============================] - 15s 152ms/step - loss: 0.1490 - accuracy: 0.9536 - val_loss: 0.3482 - val_accuracy: 0.8880\n",
            "Epoch 19/20\n",
            "100/100 [==============================] - 18s 176ms/step - loss: 0.1419 - accuracy: 0.9570 - val_loss: 0.3533 - val_accuracy: 0.8872\n",
            "Epoch 20/20\n",
            "100/100 [==============================] - 14s 144ms/step - loss: 0.1346 - accuracy: 0.9599 - val_loss: 0.3569 - val_accuracy: 0.8871\n"
          ]
        }
      ]
    },
    {
      "cell_type": "code",
      "source": [
        "import matplotlib.pyplot as plt\n",
        "\n",
        "acc = history.history['accuracy']\n",
        "val_acc = history.history['val_accuracy']\n",
        "loss = history.history['loss']\n",
        "val_loss = history.history['val_loss']\n",
        "\n",
        "epochs = range(1, len(acc) + 1)\n",
        "\n",
        "plt.plot(epochs, acc, 'bo', label='Training acc')\n",
        "plt.plot(epochs, val_acc, 'b', label='Validation acc')\n",
        "plt.title('Training and validation accuracy')\n",
        "plt.legend()\n",
        "\n",
        "plt.figure()\n",
        "\n",
        "plt.plot(epochs, loss, 'bo', label='Training loss')\n",
        "plt.plot(epochs, val_loss, 'b', label='Validation loss')\n",
        "plt.title('Training and validation loss')\n",
        "plt.legend()\n",
        "\n",
        "plt.show()"
      ],
      "metadata": {
        "colab": {
          "base_uri": "https://localhost:8080/",
          "height": 887
        },
        "id": "FqbBtmOcFEDa",
        "outputId": "3e245e2a-cc34-4f4f-d69c-cfcb7f64834d"
      },
      "execution_count": 116,
      "outputs": [
        {
          "output_type": "display_data",
          "data": {
            "text/plain": [
              "<Figure size 640x480 with 1 Axes>"
            ],
            "image/png": "[encoded data removed]"
          },
          "metadata": {}
        },
        {
          "output_type": "display_data",
          "data": {
            "text/plain": [
              "<Figure size 640x480 with 1 Axes>"
            ],
            "image/png": "[encoded data removed]"
          },
          "metadata": {}
        }
      ]
    },
    {
      "cell_type": "code",
      "source": [
        "test_loss, test_acc, = model.evaluate(test_features, test_labels)\n",
        "print(\"Accuracy %f    Loss: %f\" % (test_acc, test_loss))"
      ],
      "metadata": {
        "colab": {
          "base_uri": "https://localhost:8080/"
        },
        "id": "D42GXooFFEAF",
        "outputId": "de4590d6-d60c-4e42-8675-b9af11075811"
      },
      "execution_count": 117,
      "outputs": [
        {
          "output_type": "stream",
          "name": "stdout",
          "text": [
            "1384/1384 [==============================] - 7s 5ms/step - loss: 0.3295 - accuracy: 0.8865\n",
            "Accuracy 0.886538    Loss: 0.329457\n"
          ]
        }
      ]
    },
    {
      "cell_type": "markdown",
      "source": [
        "Now that the accuracy is very close to 90%, I will use it to predict the test data."
      ],
      "metadata": {
        "id": "sl8pehoJH2o7"
      }
    },
    {
      "cell_type": "code",
      "source": [
        "import numpy as np\n",
        "predictions = np.argmax(model.predict(testingNum), axis=-1)"
      ],
      "metadata": {
        "colab": {
          "base_uri": "https://localhost:8080/"
        },
        "id": "-XDM3Os3FuA6",
        "outputId": "79db6ced-6339-48c9-8a9b-daf77e2d6d5e"
      },
      "execution_count": 119,
      "outputs": [
        {
          "output_type": "stream",
          "name": "stdout",
          "text": [
            "313/313 [==============================] - 1s 2ms/step\n"
          ]
        }
      ]
    },
    {
      "cell_type": "markdown",
      "source": [
        "Now that the data is predicted, I can revert the integers back to their original form and write them to the amazonReviewsPredictions file."
      ],
      "metadata": {
        "id": "w6YkM0WQH-qO"
      }
    },
    {
      "cell_type": "code",
      "source": [
        "with open('amazonReviewsPredictions.txt', 'w') as f:\n",
        "    for rating in predictions:\n",
        "        if rating == 0:\n",
        "            f.write('negative\\n')\n",
        "        elif rating == 1:\n",
        "            f.write('neutral\\n')\n",
        "        else:\n",
        "            f.write('positive\\n')"
      ],
      "metadata": {
        "id": "k74nkz7ZFt-x"
      },
      "execution_count": 120,
      "outputs": []
    },
    {
      "cell_type": "markdown",
      "source": [
        "Using the function provided by the professor, I will test the format of the output file."
      ],
      "metadata": {
        "id": "zAPtNAPPITkJ"
      }
    },
    {
      "cell_type": "code",
      "source": [
        "def test():\n",
        "  i = 0\n",
        "  answers = ['negative', 'neutral', 'positive']\n",
        "  with open('amazonReviewsPredictions.txt', 'r') as outfile:\n",
        "    lines = outfile.readlines()\n",
        "    for line in lines:\n",
        "        if line.strip() not in answers:\n",
        "          return(\"invalid entry line %i\" % (i))\n",
        "        i += 1\n",
        "    if i != 10000:\n",
        "      return (\"incorrect number of lines\")\n",
        "    else:\n",
        "      return (\"file looks ok.\")\n",
        "test()"
      ],
      "metadata": {
        "colab": {
          "base_uri": "https://localhost:8080/",
          "height": 35
        },
        "id": "DuvVx9vAFt8W",
        "outputId": "2794d760-d5d4-434e-e68d-0446d69ea128"
      },
      "execution_count": 125,
      "outputs": [
        {
          "output_type": "execute_result",
          "data": {
            "text/plain": [
              "'file is working as intended.'"
            ],
            "application/vnd.google.colaboratory.intrinsic+json": {
              "type": "string"
            }
          },
          "metadata": {},
          "execution_count": 125
        }
      ]
    }
  ]
}